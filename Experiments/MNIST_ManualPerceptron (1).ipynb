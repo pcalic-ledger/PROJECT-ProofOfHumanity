{
  "nbformat": 4,
  "nbformat_minor": 0,
  "metadata": {
    "colab": {
      "name": "MNIST_ManualPerceptron.ipynb",
      "provenance": [],
      "collapsed_sections": []
    },
    "kernelspec": {
      "name": "python3",
      "display_name": "Python 3"
    },
    "language_info": {
      "name": "python"
    }
  },
  "cells": [
    {
      "cell_type": "code",
      "execution_count": null,
      "metadata": {
        "id": "ImS-6g4WzPEN"
      },
      "outputs": [],
      "source": [
        "from __future__ import print_function\n",
        "import argparse\n",
        "import torch\n",
        "import torch.nn as nn\n",
        "import torch.nn.functional as F\n",
        "import torch.optim as optim\n",
        "from torchvision import datasets, transforms\n",
        "from torch.optim.lr_scheduler import StepLR\n",
        "import numpy as np\n",
        "import pickle"
      ]
    },
    {
      "cell_type": "code",
      "source": [
        "class Net(nn.Module):\n",
        "    def __init__(self):\n",
        "        super(Net, self).__init__()\n",
        "        self.fc1 = nn.Linear(784, 32)\n",
        "        self.dropout = nn.Dropout(0.5)\n",
        "        self.fc2 = nn.Linear(32, 10)\n",
        "\n",
        "    def forward(self, x):\n",
        "        x = torch.flatten(x, 1)\n",
        "        x = self.fc1(x)\n",
        "        x = F.relu(x)\n",
        "        x = self.dropout(x)\n",
        "        x = self.fc2(x)\n",
        "        output = F.log_softmax(x, dim=1)\n",
        "        return output"
      ],
      "metadata": {
        "id": "6DqyFhRS1Klw"
      },
      "execution_count": null,
      "outputs": []
    },
    {
      "cell_type": "code",
      "source": [
        "model = Net()"
      ],
      "metadata": {
        "id": "8eOKY_Ic1Nip"
      },
      "execution_count": null,
      "outputs": []
    },
    {
      "cell_type": "code",
      "source": [
        "print(\"> printing the model\")\n",
        "print(model)"
      ],
      "metadata": {
        "colab": {
          "base_uri": "https://localhost:8080/"
        },
        "id": "52cVXMw31ULF",
        "outputId": "a6b43dd5-818f-4266-b62d-cddb259ee64c"
      },
      "execution_count": null,
      "outputs": [
        {
          "output_type": "stream",
          "name": "stdout",
          "text": [
            "> printing the model\n",
            "Net(\n",
            "  (fc1): Linear(in_features=784, out_features=32, bias=True)\n",
            "  (dropout): Dropout(p=0.5, inplace=False)\n",
            "  (fc2): Linear(in_features=32, out_features=10, bias=True)\n",
            ")\n"
          ]
        }
      ]
    },
    {
      "cell_type": "code",
      "source": [
        "def train(args, model, device, train_loader, optimizer, epoch):\n",
        "    model.train()\n",
        "    for batch_idx, (data, target) in enumerate(train_loader):\n",
        "        data, target = data.to(device), target.to(device)\n",
        "        optimizer.zero_grad()\n",
        "        output = model(data)\n",
        "        loss = F.nll_loss(output, target)\n",
        "        loss.backward()\n",
        "        #print(\"Prediction\", model()\n",
        "        optimizer.step()\n",
        "        if batch_idx % args['log_interval'] == 0:\n",
        "            print('Train Epoch: {} [{}/{} ({:.0f}%)]\\tLoss: {:.6f}'.format(\n",
        "                epoch, batch_idx * len(data), len(train_loader.dataset),\n",
        "                100. * batch_idx / len(train_loader), loss.item()))\n",
        "            if args['dry_run']:\n",
        "                break\n",
        "\n",
        "\n",
        "def test(model, device, test_loader):\n",
        "    model.eval()\n",
        "    test_loss = 0\n",
        "    correct = 0\n",
        "    with torch.no_grad():\n",
        "        for data, target in test_loader:\n",
        "            data, target = data.to(device), target.to(device)\n",
        "            output = model(data)\n",
        "            test_loss += F.nll_loss(output, target, reduction='sum').item()  # sum up batch loss\n",
        "            pred = output.argmax(dim=1, keepdim=True)  # get the index of the max log-probability\n",
        "            correct += pred.eq(target.view_as(pred)).sum().item()\n",
        "\n",
        "    test_loss /= len(test_loader.dataset)\n",
        "\n",
        "    print('\\nTest set: Average loss: {:.4f}, Accuracy: {}/{} ({:.0f}%)\\n'.format(\n",
        "        test_loss, correct, len(test_loader.dataset),\n",
        "        100. * correct / len(test_loader.dataset)))\n",
        "    \n",
        "\n",
        "def run():\n",
        "    args = {\n",
        "        'no_cuda' : True,\n",
        "        'seed' : 1,\n",
        "        'batch_size' : 64,\n",
        "        'test_batch_size' : 1000,\n",
        "        'lr' : 1.0,\n",
        "        'gamma' : 0.7,\n",
        "        'epochs' : 5,\n",
        "        'save_model' : True,\n",
        "        'log_interval' : 10,\n",
        "        'dry_run' : False\n",
        "        \n",
        "    }\n",
        "   \n",
        "    use_cuda = not args['no_cuda'] and torch.cuda.is_available()\n",
        "\n",
        "    torch.manual_seed(args['seed'])\n",
        "\n",
        "    device = torch.device(\"cuda\" if use_cuda else \"cpu\")\n",
        "\n",
        "    train_kwargs = {'batch_size': args['batch_size']}\n",
        "    test_kwargs = {'batch_size': args['test_batch_size']}\n",
        "    if use_cuda:\n",
        "        cuda_kwargs = {'num_workers': 1,\n",
        "                       'pin_memory': True,\n",
        "                       'shuffle': True}\n",
        "        train_kwargs.update(cuda_kwargs)\n",
        "        test_kwargs.update(cuda_kwargs)\n",
        "\n",
        "    transform=transforms.Compose([\n",
        "        transforms.ToTensor(),\n",
        "        transforms.Normalize((0.1307,), (0.3081,))\n",
        "        ])\n",
        "    dataset1 = datasets.MNIST('../data', train=True, download=True,\n",
        "                       transform=transform)\n",
        "    dataset2 = datasets.MNIST('../data', train=False,\n",
        "                       transform=transform)\n",
        "    train_loader = torch.utils.data.DataLoader(dataset1,**train_kwargs)\n",
        "    test_loader = torch.utils.data.DataLoader(dataset2, **test_kwargs)\n",
        "\n",
        "    model = Net().to(device)\n",
        "    optimizer = optim.Adadelta(model.parameters(), lr=args['lr'])\n",
        "\n",
        "    scheduler = StepLR(optimizer, step_size=1, gamma=args['gamma'])\n",
        "    for epoch in range(1, args['epochs'] + 1):\n",
        "        train(args, model, device, train_loader, optimizer, epoch)\n",
        "        test(model, device, test_loader)\n",
        "        scheduler.step()\n",
        "\n",
        "    if args['save_model']:\n",
        "        torch.save(model.state_dict(), \"mnist_dnn.pt\")"
      ],
      "metadata": {
        "id": "J_uE7TGU1Wtu"
      },
      "execution_count": null,
      "outputs": []
    },
    {
      "cell_type": "code",
      "source": [
        "run()"
      ],
      "metadata": {
        "colab": {
          "base_uri": "https://localhost:8080/"
        },
        "id": "YZUcf0Cq5kkg",
        "outputId": "d43387e7-3ce0-4a64-85d8-e3eb0075c78d"
      },
      "execution_count": null,
      "outputs": [
        {
          "output_type": "stream",
          "name": "stdout",
          "text": [
            "Train Epoch: 1 [0/60000 (0%)]\tLoss: 2.329856\n",
            "Train Epoch: 1 [640/60000 (1%)]\tLoss: 1.573720\n",
            "Train Epoch: 1 [1280/60000 (2%)]\tLoss: 1.413218\n",
            "Train Epoch: 1 [1920/60000 (3%)]\tLoss: 0.955432\n",
            "Train Epoch: 1 [2560/60000 (4%)]\tLoss: 0.786503\n",
            "Train Epoch: 1 [3200/60000 (5%)]\tLoss: 0.881180\n",
            "Train Epoch: 1 [3840/60000 (6%)]\tLoss: 0.771456\n",
            "Train Epoch: 1 [4480/60000 (7%)]\tLoss: 0.804304\n",
            "Train Epoch: 1 [5120/60000 (9%)]\tLoss: 1.143172\n",
            "Train Epoch: 1 [5760/60000 (10%)]\tLoss: 0.575277\n",
            "Train Epoch: 1 [6400/60000 (11%)]\tLoss: 0.671376\n",
            "Train Epoch: 1 [7040/60000 (12%)]\tLoss: 0.671880\n",
            "Train Epoch: 1 [7680/60000 (13%)]\tLoss: 0.625420\n",
            "Train Epoch: 1 [8320/60000 (14%)]\tLoss: 0.604873\n",
            "Train Epoch: 1 [8960/60000 (15%)]\tLoss: 0.773807\n",
            "Train Epoch: 1 [9600/60000 (16%)]\tLoss: 0.766047\n",
            "Train Epoch: 1 [10240/60000 (17%)]\tLoss: 0.657893\n",
            "Train Epoch: 1 [10880/60000 (18%)]\tLoss: 0.557043\n",
            "Train Epoch: 1 [11520/60000 (19%)]\tLoss: 0.810708\n",
            "Train Epoch: 1 [12160/60000 (20%)]\tLoss: 0.812729\n",
            "Train Epoch: 1 [12800/60000 (21%)]\tLoss: 0.627280\n",
            "Train Epoch: 1 [13440/60000 (22%)]\tLoss: 0.509565\n",
            "Train Epoch: 1 [14080/60000 (23%)]\tLoss: 0.879667\n",
            "Train Epoch: 1 [14720/60000 (25%)]\tLoss: 0.953598\n",
            "Train Epoch: 1 [15360/60000 (26%)]\tLoss: 0.594260\n",
            "Train Epoch: 1 [16000/60000 (27%)]\tLoss: 0.849802\n",
            "Train Epoch: 1 [16640/60000 (28%)]\tLoss: 0.799870\n",
            "Train Epoch: 1 [17280/60000 (29%)]\tLoss: 0.444510\n",
            "Train Epoch: 1 [17920/60000 (30%)]\tLoss: 0.601406\n",
            "Train Epoch: 1 [18560/60000 (31%)]\tLoss: 0.698540\n",
            "Train Epoch: 1 [19200/60000 (32%)]\tLoss: 0.652794\n",
            "Train Epoch: 1 [19840/60000 (33%)]\tLoss: 0.514471\n",
            "Train Epoch: 1 [20480/60000 (34%)]\tLoss: 0.523733\n",
            "Train Epoch: 1 [21120/60000 (35%)]\tLoss: 0.781636\n",
            "Train Epoch: 1 [21760/60000 (36%)]\tLoss: 0.422628\n",
            "Train Epoch: 1 [22400/60000 (37%)]\tLoss: 0.458730\n",
            "Train Epoch: 1 [23040/60000 (38%)]\tLoss: 0.632195\n",
            "Train Epoch: 1 [23680/60000 (39%)]\tLoss: 0.684939\n",
            "Train Epoch: 1 [24320/60000 (41%)]\tLoss: 0.358969\n",
            "Train Epoch: 1 [24960/60000 (42%)]\tLoss: 0.511623\n",
            "Train Epoch: 1 [25600/60000 (43%)]\tLoss: 0.537560\n",
            "Train Epoch: 1 [26240/60000 (44%)]\tLoss: 0.692182\n",
            "Train Epoch: 1 [26880/60000 (45%)]\tLoss: 0.752163\n",
            "Train Epoch: 1 [27520/60000 (46%)]\tLoss: 0.488838\n",
            "Train Epoch: 1 [28160/60000 (47%)]\tLoss: 0.624169\n",
            "Train Epoch: 1 [28800/60000 (48%)]\tLoss: 0.651200\n",
            "Train Epoch: 1 [29440/60000 (49%)]\tLoss: 0.524830\n",
            "Train Epoch: 1 [30080/60000 (50%)]\tLoss: 0.697268\n",
            "Train Epoch: 1 [30720/60000 (51%)]\tLoss: 0.602215\n",
            "Train Epoch: 1 [31360/60000 (52%)]\tLoss: 0.694968\n",
            "Train Epoch: 1 [32000/60000 (53%)]\tLoss: 0.730230\n",
            "Train Epoch: 1 [32640/60000 (54%)]\tLoss: 0.615660\n",
            "Train Epoch: 1 [33280/60000 (55%)]\tLoss: 0.605882\n",
            "Train Epoch: 1 [33920/60000 (57%)]\tLoss: 0.382978\n",
            "Train Epoch: 1 [34560/60000 (58%)]\tLoss: 0.511288\n",
            "Train Epoch: 1 [35200/60000 (59%)]\tLoss: 0.757788\n",
            "Train Epoch: 1 [35840/60000 (60%)]\tLoss: 0.545386\n",
            "Train Epoch: 1 [36480/60000 (61%)]\tLoss: 0.469098\n",
            "Train Epoch: 1 [37120/60000 (62%)]\tLoss: 0.704659\n",
            "Train Epoch: 1 [37760/60000 (63%)]\tLoss: 0.634796\n",
            "Train Epoch: 1 [38400/60000 (64%)]\tLoss: 0.537917\n",
            "Train Epoch: 1 [39040/60000 (65%)]\tLoss: 0.376806\n",
            "Train Epoch: 1 [39680/60000 (66%)]\tLoss: 0.586106\n",
            "Train Epoch: 1 [40320/60000 (67%)]\tLoss: 0.576286\n",
            "Train Epoch: 1 [40960/60000 (68%)]\tLoss: 0.736057\n",
            "Train Epoch: 1 [41600/60000 (69%)]\tLoss: 0.777634\n",
            "Train Epoch: 1 [42240/60000 (70%)]\tLoss: 0.401054\n",
            "Train Epoch: 1 [42880/60000 (71%)]\tLoss: 0.725106\n",
            "Train Epoch: 1 [43520/60000 (72%)]\tLoss: 0.654969\n",
            "Train Epoch: 1 [44160/60000 (74%)]\tLoss: 0.493834\n",
            "Train Epoch: 1 [44800/60000 (75%)]\tLoss: 0.689018\n",
            "Train Epoch: 1 [45440/60000 (76%)]\tLoss: 0.931576\n",
            "Train Epoch: 1 [46080/60000 (77%)]\tLoss: 0.666565\n",
            "Train Epoch: 1 [46720/60000 (78%)]\tLoss: 0.693394\n",
            "Train Epoch: 1 [47360/60000 (79%)]\tLoss: 0.428320\n",
            "Train Epoch: 1 [48000/60000 (80%)]\tLoss: 0.409523\n",
            "Train Epoch: 1 [48640/60000 (81%)]\tLoss: 0.412265\n",
            "Train Epoch: 1 [49280/60000 (82%)]\tLoss: 0.413866\n",
            "Train Epoch: 1 [49920/60000 (83%)]\tLoss: 0.419288\n",
            "Train Epoch: 1 [50560/60000 (84%)]\tLoss: 0.574890\n",
            "Train Epoch: 1 [51200/60000 (85%)]\tLoss: 0.479659\n",
            "Train Epoch: 1 [51840/60000 (86%)]\tLoss: 0.504632\n",
            "Train Epoch: 1 [52480/60000 (87%)]\tLoss: 0.219473\n",
            "Train Epoch: 1 [53120/60000 (88%)]\tLoss: 0.601869\n",
            "Train Epoch: 1 [53760/60000 (90%)]\tLoss: 0.262457\n",
            "Train Epoch: 1 [54400/60000 (91%)]\tLoss: 0.568556\n",
            "Train Epoch: 1 [55040/60000 (92%)]\tLoss: 0.644358\n",
            "Train Epoch: 1 [55680/60000 (93%)]\tLoss: 0.452808\n",
            "Train Epoch: 1 [56320/60000 (94%)]\tLoss: 0.483250\n",
            "Train Epoch: 1 [56960/60000 (95%)]\tLoss: 0.527044\n",
            "Train Epoch: 1 [57600/60000 (96%)]\tLoss: 0.862484\n",
            "Train Epoch: 1 [58240/60000 (97%)]\tLoss: 0.331764\n",
            "Train Epoch: 1 [58880/60000 (98%)]\tLoss: 0.207774\n",
            "Train Epoch: 1 [59520/60000 (99%)]\tLoss: 0.281721\n",
            "\n",
            "Test set: Average loss: 0.2707, Accuracy: 9185/10000 (92%)\n",
            "\n",
            "Train Epoch: 2 [0/60000 (0%)]\tLoss: 0.495284\n",
            "Train Epoch: 2 [640/60000 (1%)]\tLoss: 0.485000\n",
            "Train Epoch: 2 [1280/60000 (2%)]\tLoss: 0.659054\n",
            "Train Epoch: 2 [1920/60000 (3%)]\tLoss: 0.358853\n",
            "Train Epoch: 2 [2560/60000 (4%)]\tLoss: 0.409103\n",
            "Train Epoch: 2 [3200/60000 (5%)]\tLoss: 0.443521\n",
            "Train Epoch: 2 [3840/60000 (6%)]\tLoss: 0.308301\n",
            "Train Epoch: 2 [4480/60000 (7%)]\tLoss: 0.384405\n",
            "Train Epoch: 2 [5120/60000 (9%)]\tLoss: 0.704436\n",
            "Train Epoch: 2 [5760/60000 (10%)]\tLoss: 0.618382\n",
            "Train Epoch: 2 [6400/60000 (11%)]\tLoss: 0.626117\n",
            "Train Epoch: 2 [7040/60000 (12%)]\tLoss: 0.418247\n",
            "Train Epoch: 2 [7680/60000 (13%)]\tLoss: 0.459344\n",
            "Train Epoch: 2 [8320/60000 (14%)]\tLoss: 0.442262\n",
            "Train Epoch: 2 [8960/60000 (15%)]\tLoss: 0.380311\n",
            "Train Epoch: 2 [9600/60000 (16%)]\tLoss: 0.621462\n",
            "Train Epoch: 2 [10240/60000 (17%)]\tLoss: 0.445887\n",
            "Train Epoch: 2 [10880/60000 (18%)]\tLoss: 0.460780\n",
            "Train Epoch: 2 [11520/60000 (19%)]\tLoss: 0.625149\n",
            "Train Epoch: 2 [12160/60000 (20%)]\tLoss: 0.654534\n",
            "Train Epoch: 2 [12800/60000 (21%)]\tLoss: 0.346784\n",
            "Train Epoch: 2 [13440/60000 (22%)]\tLoss: 0.359561\n",
            "Train Epoch: 2 [14080/60000 (23%)]\tLoss: 0.494535\n",
            "Train Epoch: 2 [14720/60000 (25%)]\tLoss: 0.867174\n",
            "Train Epoch: 2 [15360/60000 (26%)]\tLoss: 0.422587\n",
            "Train Epoch: 2 [16000/60000 (27%)]\tLoss: 0.549479\n",
            "Train Epoch: 2 [16640/60000 (28%)]\tLoss: 0.629367\n",
            "Train Epoch: 2 [17280/60000 (29%)]\tLoss: 0.240606\n",
            "Train Epoch: 2 [17920/60000 (30%)]\tLoss: 0.488836\n",
            "Train Epoch: 2 [18560/60000 (31%)]\tLoss: 0.502311\n",
            "Train Epoch: 2 [19200/60000 (32%)]\tLoss: 0.559503\n",
            "Train Epoch: 2 [19840/60000 (33%)]\tLoss: 0.398619\n",
            "Train Epoch: 2 [20480/60000 (34%)]\tLoss: 0.413032\n",
            "Train Epoch: 2 [21120/60000 (35%)]\tLoss: 0.354131\n",
            "Train Epoch: 2 [21760/60000 (36%)]\tLoss: 0.302749\n",
            "Train Epoch: 2 [22400/60000 (37%)]\tLoss: 0.476233\n",
            "Train Epoch: 2 [23040/60000 (38%)]\tLoss: 0.591439\n",
            "Train Epoch: 2 [23680/60000 (39%)]\tLoss: 0.545878\n",
            "Train Epoch: 2 [24320/60000 (41%)]\tLoss: 0.304923\n",
            "Train Epoch: 2 [24960/60000 (42%)]\tLoss: 0.545585\n",
            "Train Epoch: 2 [25600/60000 (43%)]\tLoss: 0.585832\n",
            "Train Epoch: 2 [26240/60000 (44%)]\tLoss: 0.649650\n",
            "Train Epoch: 2 [26880/60000 (45%)]\tLoss: 0.914222\n",
            "Train Epoch: 2 [27520/60000 (46%)]\tLoss: 0.454977\n",
            "Train Epoch: 2 [28160/60000 (47%)]\tLoss: 0.486954\n",
            "Train Epoch: 2 [28800/60000 (48%)]\tLoss: 0.338866\n",
            "Train Epoch: 2 [29440/60000 (49%)]\tLoss: 0.375327\n",
            "Train Epoch: 2 [30080/60000 (50%)]\tLoss: 0.529471\n",
            "Train Epoch: 2 [30720/60000 (51%)]\tLoss: 0.670390\n",
            "Train Epoch: 2 [31360/60000 (52%)]\tLoss: 0.714792\n",
            "Train Epoch: 2 [32000/60000 (53%)]\tLoss: 0.542389\n",
            "Train Epoch: 2 [32640/60000 (54%)]\tLoss: 0.497328\n",
            "Train Epoch: 2 [33280/60000 (55%)]\tLoss: 0.393173\n",
            "Train Epoch: 2 [33920/60000 (57%)]\tLoss: 0.415825\n",
            "Train Epoch: 2 [34560/60000 (58%)]\tLoss: 0.376243\n",
            "Train Epoch: 2 [35200/60000 (59%)]\tLoss: 0.743936\n",
            "Train Epoch: 2 [35840/60000 (60%)]\tLoss: 0.532307\n",
            "Train Epoch: 2 [36480/60000 (61%)]\tLoss: 0.478154\n",
            "Train Epoch: 2 [37120/60000 (62%)]\tLoss: 0.511486\n",
            "Train Epoch: 2 [37760/60000 (63%)]\tLoss: 0.550321\n",
            "Train Epoch: 2 [38400/60000 (64%)]\tLoss: 0.378240\n",
            "Train Epoch: 2 [39040/60000 (65%)]\tLoss: 0.186997\n",
            "Train Epoch: 2 [39680/60000 (66%)]\tLoss: 0.578166\n",
            "Train Epoch: 2 [40320/60000 (67%)]\tLoss: 0.526799\n",
            "Train Epoch: 2 [40960/60000 (68%)]\tLoss: 0.704806\n",
            "Train Epoch: 2 [41600/60000 (69%)]\tLoss: 0.470647\n",
            "Train Epoch: 2 [42240/60000 (70%)]\tLoss: 0.520895\n",
            "Train Epoch: 2 [42880/60000 (71%)]\tLoss: 0.617220\n",
            "Train Epoch: 2 [43520/60000 (72%)]\tLoss: 0.640312\n",
            "Train Epoch: 2 [44160/60000 (74%)]\tLoss: 0.297285\n",
            "Train Epoch: 2 [44800/60000 (75%)]\tLoss: 0.654528\n",
            "Train Epoch: 2 [45440/60000 (76%)]\tLoss: 0.742038\n",
            "Train Epoch: 2 [46080/60000 (77%)]\tLoss: 0.461188\n",
            "Train Epoch: 2 [46720/60000 (78%)]\tLoss: 0.600052\n",
            "Train Epoch: 2 [47360/60000 (79%)]\tLoss: 0.580971\n",
            "Train Epoch: 2 [48000/60000 (80%)]\tLoss: 0.632555\n",
            "Train Epoch: 2 [48640/60000 (81%)]\tLoss: 0.320015\n",
            "Train Epoch: 2 [49280/60000 (82%)]\tLoss: 0.392818\n",
            "Train Epoch: 2 [49920/60000 (83%)]\tLoss: 0.312475\n",
            "Train Epoch: 2 [50560/60000 (84%)]\tLoss: 0.463928\n",
            "Train Epoch: 2 [51200/60000 (85%)]\tLoss: 0.524607\n",
            "Train Epoch: 2 [51840/60000 (86%)]\tLoss: 0.414306\n",
            "Train Epoch: 2 [52480/60000 (87%)]\tLoss: 0.191782\n",
            "Train Epoch: 2 [53120/60000 (88%)]\tLoss: 0.566535\n",
            "Train Epoch: 2 [53760/60000 (90%)]\tLoss: 0.429980\n",
            "Train Epoch: 2 [54400/60000 (91%)]\tLoss: 0.474901\n",
            "Train Epoch: 2 [55040/60000 (92%)]\tLoss: 0.421944\n",
            "Train Epoch: 2 [55680/60000 (93%)]\tLoss: 0.590989\n",
            "Train Epoch: 2 [56320/60000 (94%)]\tLoss: 0.486295\n",
            "Train Epoch: 2 [56960/60000 (95%)]\tLoss: 0.444422\n",
            "Train Epoch: 2 [57600/60000 (96%)]\tLoss: 0.918812\n",
            "Train Epoch: 2 [58240/60000 (97%)]\tLoss: 0.260515\n",
            "Train Epoch: 2 [58880/60000 (98%)]\tLoss: 0.277935\n",
            "Train Epoch: 2 [59520/60000 (99%)]\tLoss: 0.262114\n",
            "\n",
            "Test set: Average loss: 0.2419, Accuracy: 9271/10000 (93%)\n",
            "\n",
            "Train Epoch: 3 [0/60000 (0%)]\tLoss: 0.259714\n",
            "Train Epoch: 3 [640/60000 (1%)]\tLoss: 0.607980\n",
            "Train Epoch: 3 [1280/60000 (2%)]\tLoss: 0.508073\n",
            "Train Epoch: 3 [1920/60000 (3%)]\tLoss: 0.318094\n",
            "Train Epoch: 3 [2560/60000 (4%)]\tLoss: 0.316845\n",
            "Train Epoch: 3 [3200/60000 (5%)]\tLoss: 0.416210\n",
            "Train Epoch: 3 [3840/60000 (6%)]\tLoss: 0.213685\n",
            "Train Epoch: 3 [4480/60000 (7%)]\tLoss: 0.346675\n",
            "Train Epoch: 3 [5120/60000 (9%)]\tLoss: 0.769592\n",
            "Train Epoch: 3 [5760/60000 (10%)]\tLoss: 0.355125\n",
            "Train Epoch: 3 [6400/60000 (11%)]\tLoss: 0.409745\n",
            "Train Epoch: 3 [7040/60000 (12%)]\tLoss: 0.315695\n",
            "Train Epoch: 3 [7680/60000 (13%)]\tLoss: 0.254929\n",
            "Train Epoch: 3 [8320/60000 (14%)]\tLoss: 0.427996\n",
            "Train Epoch: 3 [8960/60000 (15%)]\tLoss: 0.282381\n",
            "Train Epoch: 3 [9600/60000 (16%)]\tLoss: 0.480844\n",
            "Train Epoch: 3 [10240/60000 (17%)]\tLoss: 0.614787\n",
            "Train Epoch: 3 [10880/60000 (18%)]\tLoss: 0.303540\n",
            "Train Epoch: 3 [11520/60000 (19%)]\tLoss: 0.773449\n",
            "Train Epoch: 3 [12160/60000 (20%)]\tLoss: 0.553182\n",
            "Train Epoch: 3 [12800/60000 (21%)]\tLoss: 0.326468\n",
            "Train Epoch: 3 [13440/60000 (22%)]\tLoss: 0.387441\n",
            "Train Epoch: 3 [14080/60000 (23%)]\tLoss: 0.561663\n",
            "Train Epoch: 3 [14720/60000 (25%)]\tLoss: 0.971835\n",
            "Train Epoch: 3 [15360/60000 (26%)]\tLoss: 0.310168\n",
            "Train Epoch: 3 [16000/60000 (27%)]\tLoss: 0.711797\n",
            "Train Epoch: 3 [16640/60000 (28%)]\tLoss: 0.474177\n",
            "Train Epoch: 3 [17280/60000 (29%)]\tLoss: 0.228002\n",
            "Train Epoch: 3 [17920/60000 (30%)]\tLoss: 0.335945\n",
            "Train Epoch: 3 [18560/60000 (31%)]\tLoss: 0.497269\n",
            "Train Epoch: 3 [19200/60000 (32%)]\tLoss: 0.574885\n",
            "Train Epoch: 3 [19840/60000 (33%)]\tLoss: 0.247793\n",
            "Train Epoch: 3 [20480/60000 (34%)]\tLoss: 0.400681\n",
            "Train Epoch: 3 [21120/60000 (35%)]\tLoss: 0.325883\n",
            "Train Epoch: 3 [21760/60000 (36%)]\tLoss: 0.165342\n",
            "Train Epoch: 3 [22400/60000 (37%)]\tLoss: 0.462703\n",
            "Train Epoch: 3 [23040/60000 (38%)]\tLoss: 0.549450\n",
            "Train Epoch: 3 [23680/60000 (39%)]\tLoss: 0.705275\n",
            "Train Epoch: 3 [24320/60000 (41%)]\tLoss: 0.300483\n",
            "Train Epoch: 3 [24960/60000 (42%)]\tLoss: 0.412043\n",
            "Train Epoch: 3 [25600/60000 (43%)]\tLoss: 0.336228\n",
            "Train Epoch: 3 [26240/60000 (44%)]\tLoss: 0.598121\n",
            "Train Epoch: 3 [26880/60000 (45%)]\tLoss: 0.576202\n",
            "Train Epoch: 3 [27520/60000 (46%)]\tLoss: 0.466966\n",
            "Train Epoch: 3 [28160/60000 (47%)]\tLoss: 0.447834\n",
            "Train Epoch: 3 [28800/60000 (48%)]\tLoss: 0.252060\n",
            "Train Epoch: 3 [29440/60000 (49%)]\tLoss: 0.274659\n",
            "Train Epoch: 3 [30080/60000 (50%)]\tLoss: 0.548277\n",
            "Train Epoch: 3 [30720/60000 (51%)]\tLoss: 0.489900\n",
            "Train Epoch: 3 [31360/60000 (52%)]\tLoss: 0.412327\n",
            "Train Epoch: 3 [32000/60000 (53%)]\tLoss: 0.553893\n",
            "Train Epoch: 3 [32640/60000 (54%)]\tLoss: 0.453721\n",
            "Train Epoch: 3 [33280/60000 (55%)]\tLoss: 0.482098\n",
            "Train Epoch: 3 [33920/60000 (57%)]\tLoss: 0.246906\n",
            "Train Epoch: 3 [34560/60000 (58%)]\tLoss: 0.419086\n",
            "Train Epoch: 3 [35200/60000 (59%)]\tLoss: 0.503930\n",
            "Train Epoch: 3 [35840/60000 (60%)]\tLoss: 0.383591\n",
            "Train Epoch: 3 [36480/60000 (61%)]\tLoss: 0.476420\n",
            "Train Epoch: 3 [37120/60000 (62%)]\tLoss: 0.512338\n",
            "Train Epoch: 3 [37760/60000 (63%)]\tLoss: 0.596540\n",
            "Train Epoch: 3 [38400/60000 (64%)]\tLoss: 0.337791\n",
            "Train Epoch: 3 [39040/60000 (65%)]\tLoss: 0.288810\n",
            "Train Epoch: 3 [39680/60000 (66%)]\tLoss: 0.553977\n",
            "Train Epoch: 3 [40320/60000 (67%)]\tLoss: 0.455420\n",
            "Train Epoch: 3 [40960/60000 (68%)]\tLoss: 0.773652\n",
            "Train Epoch: 3 [41600/60000 (69%)]\tLoss: 0.563582\n",
            "Train Epoch: 3 [42240/60000 (70%)]\tLoss: 0.338702\n",
            "Train Epoch: 3 [42880/60000 (71%)]\tLoss: 0.597800\n",
            "Train Epoch: 3 [43520/60000 (72%)]\tLoss: 0.555291\n",
            "Train Epoch: 3 [44160/60000 (74%)]\tLoss: 0.388376\n",
            "Train Epoch: 3 [44800/60000 (75%)]\tLoss: 0.704398\n",
            "Train Epoch: 3 [45440/60000 (76%)]\tLoss: 0.648789\n",
            "Train Epoch: 3 [46080/60000 (77%)]\tLoss: 0.396679\n",
            "Train Epoch: 3 [46720/60000 (78%)]\tLoss: 0.527533\n",
            "Train Epoch: 3 [47360/60000 (79%)]\tLoss: 0.381821\n",
            "Train Epoch: 3 [48000/60000 (80%)]\tLoss: 0.300343\n",
            "Train Epoch: 3 [48640/60000 (81%)]\tLoss: 0.730483\n",
            "Train Epoch: 3 [49280/60000 (82%)]\tLoss: 0.351400\n",
            "Train Epoch: 3 [49920/60000 (83%)]\tLoss: 0.384402\n",
            "Train Epoch: 3 [50560/60000 (84%)]\tLoss: 0.432392\n",
            "Train Epoch: 3 [51200/60000 (85%)]\tLoss: 0.401542\n",
            "Train Epoch: 3 [51840/60000 (86%)]\tLoss: 0.399903\n",
            "Train Epoch: 3 [52480/60000 (87%)]\tLoss: 0.304475\n",
            "Train Epoch: 3 [53120/60000 (88%)]\tLoss: 0.512452\n",
            "Train Epoch: 3 [53760/60000 (90%)]\tLoss: 0.265676\n",
            "Train Epoch: 3 [54400/60000 (91%)]\tLoss: 0.585391\n",
            "Train Epoch: 3 [55040/60000 (92%)]\tLoss: 0.373960\n",
            "Train Epoch: 3 [55680/60000 (93%)]\tLoss: 0.535891\n",
            "Train Epoch: 3 [56320/60000 (94%)]\tLoss: 0.446592\n",
            "Train Epoch: 3 [56960/60000 (95%)]\tLoss: 0.353325\n",
            "Train Epoch: 3 [57600/60000 (96%)]\tLoss: 0.773505\n",
            "Train Epoch: 3 [58240/60000 (97%)]\tLoss: 0.192338\n",
            "Train Epoch: 3 [58880/60000 (98%)]\tLoss: 0.261443\n",
            "Train Epoch: 3 [59520/60000 (99%)]\tLoss: 0.145571\n",
            "\n",
            "Test set: Average loss: 0.2263, Accuracy: 9343/10000 (93%)\n",
            "\n",
            "Train Epoch: 4 [0/60000 (0%)]\tLoss: 0.232320\n",
            "Train Epoch: 4 [640/60000 (1%)]\tLoss: 0.608017\n",
            "Train Epoch: 4 [1280/60000 (2%)]\tLoss: 0.664694\n",
            "Train Epoch: 4 [1920/60000 (3%)]\tLoss: 0.414493\n",
            "Train Epoch: 4 [2560/60000 (4%)]\tLoss: 0.370873\n",
            "Train Epoch: 4 [3200/60000 (5%)]\tLoss: 0.476811\n",
            "Train Epoch: 4 [3840/60000 (6%)]\tLoss: 0.253435\n",
            "Train Epoch: 4 [4480/60000 (7%)]\tLoss: 0.304627\n",
            "Train Epoch: 4 [5120/60000 (9%)]\tLoss: 0.898731\n",
            "Train Epoch: 4 [5760/60000 (10%)]\tLoss: 0.324280\n",
            "Train Epoch: 4 [6400/60000 (11%)]\tLoss: 0.395601\n",
            "Train Epoch: 4 [7040/60000 (12%)]\tLoss: 0.335445\n",
            "Train Epoch: 4 [7680/60000 (13%)]\tLoss: 0.331736\n",
            "Train Epoch: 4 [8320/60000 (14%)]\tLoss: 0.279492\n",
            "Train Epoch: 4 [8960/60000 (15%)]\tLoss: 0.322308\n",
            "Train Epoch: 4 [9600/60000 (16%)]\tLoss: 0.450101\n",
            "Train Epoch: 4 [10240/60000 (17%)]\tLoss: 0.590062\n",
            "Train Epoch: 4 [10880/60000 (18%)]\tLoss: 0.362857\n",
            "Train Epoch: 4 [11520/60000 (19%)]\tLoss: 0.993682\n",
            "Train Epoch: 4 [12160/60000 (20%)]\tLoss: 0.562067\n",
            "Train Epoch: 4 [12800/60000 (21%)]\tLoss: 0.356414\n",
            "Train Epoch: 4 [13440/60000 (22%)]\tLoss: 0.497555\n",
            "Train Epoch: 4 [14080/60000 (23%)]\tLoss: 0.366102\n",
            "Train Epoch: 4 [14720/60000 (25%)]\tLoss: 0.758772\n",
            "Train Epoch: 4 [15360/60000 (26%)]\tLoss: 0.361953\n",
            "Train Epoch: 4 [16000/60000 (27%)]\tLoss: 0.712262\n",
            "Train Epoch: 4 [16640/60000 (28%)]\tLoss: 0.444590\n",
            "Train Epoch: 4 [17280/60000 (29%)]\tLoss: 0.252942\n",
            "Train Epoch: 4 [17920/60000 (30%)]\tLoss: 0.400888\n",
            "Train Epoch: 4 [18560/60000 (31%)]\tLoss: 0.356160\n",
            "Train Epoch: 4 [19200/60000 (32%)]\tLoss: 0.413044\n",
            "Train Epoch: 4 [19840/60000 (33%)]\tLoss: 0.356233\n",
            "Train Epoch: 4 [20480/60000 (34%)]\tLoss: 0.371855\n",
            "Train Epoch: 4 [21120/60000 (35%)]\tLoss: 0.299513\n",
            "Train Epoch: 4 [21760/60000 (36%)]\tLoss: 0.219646\n",
            "Train Epoch: 4 [22400/60000 (37%)]\tLoss: 0.551440\n",
            "Train Epoch: 4 [23040/60000 (38%)]\tLoss: 0.551008\n",
            "Train Epoch: 4 [23680/60000 (39%)]\tLoss: 0.833405\n",
            "Train Epoch: 4 [24320/60000 (41%)]\tLoss: 0.299134\n",
            "Train Epoch: 4 [24960/60000 (42%)]\tLoss: 0.476929\n",
            "Train Epoch: 4 [25600/60000 (43%)]\tLoss: 0.475410\n",
            "Train Epoch: 4 [26240/60000 (44%)]\tLoss: 0.522580\n",
            "Train Epoch: 4 [26880/60000 (45%)]\tLoss: 0.523845\n",
            "Train Epoch: 4 [27520/60000 (46%)]\tLoss: 0.386525\n",
            "Train Epoch: 4 [28160/60000 (47%)]\tLoss: 0.382917\n",
            "Train Epoch: 4 [28800/60000 (48%)]\tLoss: 0.368260\n",
            "Train Epoch: 4 [29440/60000 (49%)]\tLoss: 0.353417\n",
            "Train Epoch: 4 [30080/60000 (50%)]\tLoss: 0.633949\n",
            "Train Epoch: 4 [30720/60000 (51%)]\tLoss: 0.387406\n",
            "Train Epoch: 4 [31360/60000 (52%)]\tLoss: 0.387632\n",
            "Train Epoch: 4 [32000/60000 (53%)]\tLoss: 0.627937\n",
            "Train Epoch: 4 [32640/60000 (54%)]\tLoss: 0.442816\n",
            "Train Epoch: 4 [33280/60000 (55%)]\tLoss: 0.556867\n",
            "Train Epoch: 4 [33920/60000 (57%)]\tLoss: 0.204338\n",
            "Train Epoch: 4 [34560/60000 (58%)]\tLoss: 0.364329\n",
            "Train Epoch: 4 [35200/60000 (59%)]\tLoss: 0.449830\n",
            "Train Epoch: 4 [35840/60000 (60%)]\tLoss: 0.330669\n",
            "Train Epoch: 4 [36480/60000 (61%)]\tLoss: 0.625873\n",
            "Train Epoch: 4 [37120/60000 (62%)]\tLoss: 0.464646\n",
            "Train Epoch: 4 [37760/60000 (63%)]\tLoss: 0.338473\n",
            "Train Epoch: 4 [38400/60000 (64%)]\tLoss: 0.240435\n",
            "Train Epoch: 4 [39040/60000 (65%)]\tLoss: 0.320967\n",
            "Train Epoch: 4 [39680/60000 (66%)]\tLoss: 0.527491\n",
            "Train Epoch: 4 [40320/60000 (67%)]\tLoss: 0.282453\n",
            "Train Epoch: 4 [40960/60000 (68%)]\tLoss: 0.605719\n",
            "Train Epoch: 4 [41600/60000 (69%)]\tLoss: 0.473271\n",
            "Train Epoch: 4 [42240/60000 (70%)]\tLoss: 0.482670\n",
            "Train Epoch: 4 [42880/60000 (71%)]\tLoss: 0.489779\n",
            "Train Epoch: 4 [43520/60000 (72%)]\tLoss: 0.498007\n",
            "Train Epoch: 4 [44160/60000 (74%)]\tLoss: 0.315079\n",
            "Train Epoch: 4 [44800/60000 (75%)]\tLoss: 0.453502\n",
            "Train Epoch: 4 [45440/60000 (76%)]\tLoss: 0.727448\n",
            "Train Epoch: 4 [46080/60000 (77%)]\tLoss: 0.552200\n",
            "Train Epoch: 4 [46720/60000 (78%)]\tLoss: 0.498099\n",
            "Train Epoch: 4 [47360/60000 (79%)]\tLoss: 0.401602\n",
            "Train Epoch: 4 [48000/60000 (80%)]\tLoss: 0.451216\n",
            "Train Epoch: 4 [48640/60000 (81%)]\tLoss: 0.435243\n",
            "Train Epoch: 4 [49280/60000 (82%)]\tLoss: 0.325070\n",
            "Train Epoch: 4 [49920/60000 (83%)]\tLoss: 0.427213\n",
            "Train Epoch: 4 [50560/60000 (84%)]\tLoss: 0.666465\n",
            "Train Epoch: 4 [51200/60000 (85%)]\tLoss: 0.564493\n",
            "Train Epoch: 4 [51840/60000 (86%)]\tLoss: 0.338509\n",
            "Train Epoch: 4 [52480/60000 (87%)]\tLoss: 0.438377\n",
            "Train Epoch: 4 [53120/60000 (88%)]\tLoss: 0.415633\n",
            "Train Epoch: 4 [53760/60000 (90%)]\tLoss: 0.258177\n",
            "Train Epoch: 4 [54400/60000 (91%)]\tLoss: 0.399892\n",
            "Train Epoch: 4 [55040/60000 (92%)]\tLoss: 0.341231\n",
            "Train Epoch: 4 [55680/60000 (93%)]\tLoss: 0.557606\n",
            "Train Epoch: 4 [56320/60000 (94%)]\tLoss: 0.368240\n",
            "Train Epoch: 4 [56960/60000 (95%)]\tLoss: 0.419358\n",
            "Train Epoch: 4 [57600/60000 (96%)]\tLoss: 0.454436\n",
            "Train Epoch: 4 [58240/60000 (97%)]\tLoss: 0.308101\n",
            "Train Epoch: 4 [58880/60000 (98%)]\tLoss: 0.142753\n",
            "Train Epoch: 4 [59520/60000 (99%)]\tLoss: 0.146137\n",
            "\n",
            "Test set: Average loss: 0.2152, Accuracy: 9377/10000 (94%)\n",
            "\n",
            "Train Epoch: 5 [0/60000 (0%)]\tLoss: 0.327727\n",
            "Train Epoch: 5 [640/60000 (1%)]\tLoss: 0.602816\n",
            "Train Epoch: 5 [1280/60000 (2%)]\tLoss: 0.618734\n",
            "Train Epoch: 5 [1920/60000 (3%)]\tLoss: 0.406728\n",
            "Train Epoch: 5 [2560/60000 (4%)]\tLoss: 0.278367\n",
            "Train Epoch: 5 [3200/60000 (5%)]\tLoss: 0.222456\n",
            "Train Epoch: 5 [3840/60000 (6%)]\tLoss: 0.213637\n",
            "Train Epoch: 5 [4480/60000 (7%)]\tLoss: 0.434184\n",
            "Train Epoch: 5 [5120/60000 (9%)]\tLoss: 0.774697\n",
            "Train Epoch: 5 [5760/60000 (10%)]\tLoss: 0.455385\n",
            "Train Epoch: 5 [6400/60000 (11%)]\tLoss: 0.323970\n",
            "Train Epoch: 5 [7040/60000 (12%)]\tLoss: 0.323827\n",
            "Train Epoch: 5 [7680/60000 (13%)]\tLoss: 0.296584\n",
            "Train Epoch: 5 [8320/60000 (14%)]\tLoss: 0.410509\n",
            "Train Epoch: 5 [8960/60000 (15%)]\tLoss: 0.595034\n",
            "Train Epoch: 5 [9600/60000 (16%)]\tLoss: 0.539750\n",
            "Train Epoch: 5 [10240/60000 (17%)]\tLoss: 0.420412\n",
            "Train Epoch: 5 [10880/60000 (18%)]\tLoss: 0.287016\n",
            "Train Epoch: 5 [11520/60000 (19%)]\tLoss: 0.788983\n",
            "Train Epoch: 5 [12160/60000 (20%)]\tLoss: 0.693811\n",
            "Train Epoch: 5 [12800/60000 (21%)]\tLoss: 0.307838\n",
            "Train Epoch: 5 [13440/60000 (22%)]\tLoss: 0.503727\n",
            "Train Epoch: 5 [14080/60000 (23%)]\tLoss: 0.498014\n",
            "Train Epoch: 5 [14720/60000 (25%)]\tLoss: 0.699857\n",
            "Train Epoch: 5 [15360/60000 (26%)]\tLoss: 0.356899\n",
            "Train Epoch: 5 [16000/60000 (27%)]\tLoss: 0.777951\n",
            "Train Epoch: 5 [16640/60000 (28%)]\tLoss: 0.448763\n",
            "Train Epoch: 5 [17280/60000 (29%)]\tLoss: 0.158739\n",
            "Train Epoch: 5 [17920/60000 (30%)]\tLoss: 0.310376\n",
            "Train Epoch: 5 [18560/60000 (31%)]\tLoss: 0.589267\n",
            "Train Epoch: 5 [19200/60000 (32%)]\tLoss: 0.525371\n",
            "Train Epoch: 5 [19840/60000 (33%)]\tLoss: 0.315737\n",
            "Train Epoch: 5 [20480/60000 (34%)]\tLoss: 0.407925\n",
            "Train Epoch: 5 [21120/60000 (35%)]\tLoss: 0.455113\n",
            "Train Epoch: 5 [21760/60000 (36%)]\tLoss: 0.359307\n",
            "Train Epoch: 5 [22400/60000 (37%)]\tLoss: 0.258054\n",
            "Train Epoch: 5 [23040/60000 (38%)]\tLoss: 0.525928\n",
            "Train Epoch: 5 [23680/60000 (39%)]\tLoss: 0.620767\n",
            "Train Epoch: 5 [24320/60000 (41%)]\tLoss: 0.315889\n",
            "Train Epoch: 5 [24960/60000 (42%)]\tLoss: 0.467205\n",
            "Train Epoch: 5 [25600/60000 (43%)]\tLoss: 0.579080\n",
            "Train Epoch: 5 [26240/60000 (44%)]\tLoss: 0.384094\n",
            "Train Epoch: 5 [26880/60000 (45%)]\tLoss: 0.920208\n",
            "Train Epoch: 5 [27520/60000 (46%)]\tLoss: 0.330741\n",
            "Train Epoch: 5 [28160/60000 (47%)]\tLoss: 0.459820\n",
            "Train Epoch: 5 [28800/60000 (48%)]\tLoss: 0.277562\n",
            "Train Epoch: 5 [29440/60000 (49%)]\tLoss: 0.460491\n",
            "Train Epoch: 5 [30080/60000 (50%)]\tLoss: 0.729559\n",
            "Train Epoch: 5 [30720/60000 (51%)]\tLoss: 0.461435\n",
            "Train Epoch: 5 [31360/60000 (52%)]\tLoss: 0.562131\n",
            "Train Epoch: 5 [32000/60000 (53%)]\tLoss: 0.511046\n",
            "Train Epoch: 5 [32640/60000 (54%)]\tLoss: 0.340476\n",
            "Train Epoch: 5 [33280/60000 (55%)]\tLoss: 0.248162\n",
            "Train Epoch: 5 [33920/60000 (57%)]\tLoss: 0.244922\n",
            "Train Epoch: 5 [34560/60000 (58%)]\tLoss: 0.407138\n",
            "Train Epoch: 5 [35200/60000 (59%)]\tLoss: 0.585182\n",
            "Train Epoch: 5 [35840/60000 (60%)]\tLoss: 0.293625\n",
            "Train Epoch: 5 [36480/60000 (61%)]\tLoss: 0.312841\n",
            "Train Epoch: 5 [37120/60000 (62%)]\tLoss: 0.405301\n",
            "Train Epoch: 5 [37760/60000 (63%)]\tLoss: 0.577050\n",
            "Train Epoch: 5 [38400/60000 (64%)]\tLoss: 0.340332\n",
            "Train Epoch: 5 [39040/60000 (65%)]\tLoss: 0.204533\n",
            "Train Epoch: 5 [39680/60000 (66%)]\tLoss: 0.383037\n",
            "Train Epoch: 5 [40320/60000 (67%)]\tLoss: 0.424317\n",
            "Train Epoch: 5 [40960/60000 (68%)]\tLoss: 0.507311\n",
            "Train Epoch: 5 [41600/60000 (69%)]\tLoss: 0.385069\n",
            "Train Epoch: 5 [42240/60000 (70%)]\tLoss: 0.520079\n",
            "Train Epoch: 5 [42880/60000 (71%)]\tLoss: 0.476042\n",
            "Train Epoch: 5 [43520/60000 (72%)]\tLoss: 0.461021\n",
            "Train Epoch: 5 [44160/60000 (74%)]\tLoss: 0.360668\n",
            "Train Epoch: 5 [44800/60000 (75%)]\tLoss: 0.352809\n",
            "Train Epoch: 5 [45440/60000 (76%)]\tLoss: 0.641537\n",
            "Train Epoch: 5 [46080/60000 (77%)]\tLoss: 0.396436\n",
            "Train Epoch: 5 [46720/60000 (78%)]\tLoss: 0.474984\n",
            "Train Epoch: 5 [47360/60000 (79%)]\tLoss: 0.358030\n",
            "Train Epoch: 5 [48000/60000 (80%)]\tLoss: 0.328460\n",
            "Train Epoch: 5 [48640/60000 (81%)]\tLoss: 0.537747\n",
            "Train Epoch: 5 [49280/60000 (82%)]\tLoss: 0.232550\n",
            "Train Epoch: 5 [49920/60000 (83%)]\tLoss: 0.546459\n",
            "Train Epoch: 5 [50560/60000 (84%)]\tLoss: 0.392212\n",
            "Train Epoch: 5 [51200/60000 (85%)]\tLoss: 0.390760\n",
            "Train Epoch: 5 [51840/60000 (86%)]\tLoss: 0.329464\n",
            "Train Epoch: 5 [52480/60000 (87%)]\tLoss: 0.221542\n",
            "Train Epoch: 5 [53120/60000 (88%)]\tLoss: 0.436701\n",
            "Train Epoch: 5 [53760/60000 (90%)]\tLoss: 0.368362\n",
            "Train Epoch: 5 [54400/60000 (91%)]\tLoss: 0.446160\n",
            "Train Epoch: 5 [55040/60000 (92%)]\tLoss: 0.367321\n",
            "Train Epoch: 5 [55680/60000 (93%)]\tLoss: 0.552634\n",
            "Train Epoch: 5 [56320/60000 (94%)]\tLoss: 0.356216\n",
            "Train Epoch: 5 [56960/60000 (95%)]\tLoss: 0.383405\n",
            "Train Epoch: 5 [57600/60000 (96%)]\tLoss: 0.635585\n",
            "Train Epoch: 5 [58240/60000 (97%)]\tLoss: 0.203285\n",
            "Train Epoch: 5 [58880/60000 (98%)]\tLoss: 0.186442\n",
            "Train Epoch: 5 [59520/60000 (99%)]\tLoss: 0.231744\n",
            "\n",
            "Test set: Average loss: 0.2060, Accuracy: 9395/10000 (94%)\n",
            "\n"
          ]
        }
      ]
    },
    {
      "cell_type": "code",
      "source": [
        "#exploration\n",
        "model = Net()\n",
        "model.load_state_dict(torch.load(\"mnist_dnn.pt\"))\n",
        "model.eval()\n",
        "b1 = model.fc1.bias.tolist()\n",
        "w1 = model.fc1.weight.tolist()\n",
        "b2 = model.fc2.bias.tolist()\n",
        "w2 = model.fc2.weight.tolist()"
      ],
      "metadata": {
        "id": "h7chkk605nkX"
      },
      "execution_count": null,
      "outputs": []
    },
    {
      "cell_type": "code",
      "source": [
        "!ls\n"
      ],
      "metadata": {
        "colab": {
          "base_uri": "https://localhost:8080/"
        },
        "id": "mC7En4B9uGLY",
        "outputId": "dd88bc96-0b57-498c-8493-417e9d007068"
      },
      "execution_count": null,
      "outputs": [
        {
          "output_type": "stream",
          "name": "stdout",
          "text": [
            "mnist_dnn.pt  sample_data\n"
          ]
        }
      ]
    },
    {
      "cell_type": "code",
      "source": [],
      "metadata": {
        "id": "WXa9cfe07yiR"
      },
      "execution_count": null,
      "outputs": []
    },
    {
      "cell_type": "code",
      "source": [],
      "metadata": {
        "id": "NB0w8z307zf7"
      },
      "execution_count": null,
      "outputs": []
    },
    {
      "cell_type": "code",
      "source": [
        "#LOAD AN EXAMPLE NUMBER TO TEST MANUAL INFERENCE"
      ],
      "metadata": {
        "id": "ML5QS1RH9_WA"
      },
      "execution_count": null,
      "outputs": []
    },
    {
      "cell_type": "code",
      "source": [
        "transform=transforms.Compose([\n",
        "        transforms.ToTensor(),\n",
        "        transforms.Normalize((0.1307,), (0.3081,))\n",
        "        ])\n",
        "ds = datasets.MNIST('../data', train=True, download=True,\n",
        "                       transform=transform)\n",
        "IDX = 1\n",
        "\n",
        "#print(\"Prediction\", model(ds))\n",
        "\n",
        "d = ds.data[IDX].tolist()\n",
        "d_flatten = []\n",
        "for i in range(28):\n",
        "    for j in range(28):\n",
        "        print(\"%3d\" % d[i][j], end=\" \")\n",
        "        d_flatten.append(d[i][j])\n",
        "    print()"
      ],
      "metadata": {
        "colab": {
          "base_uri": "https://localhost:8080/"
        },
        "id": "81o2TmEb_Suu",
        "outputId": "3ded4737-f4b2-4a72-a754-c0c848827d8e"
      },
      "execution_count": null,
      "outputs": [
        {
          "output_type": "stream",
          "name": "stdout",
          "text": [
            "  0   0   0   0   0   0   0   0   0   0   0   0   0   0   0   0   0   0   0   0   0   0   0   0   0   0   0   0 \n",
            "  0   0   0   0   0   0   0   0   0   0   0   0   0   0   0   0   0   0   0   0   0   0   0   0   0   0   0   0 \n",
            "  0   0   0   0   0   0   0   0   0   0   0   0   0   0   0   0   0   0   0   0   0   0   0   0   0   0   0   0 \n",
            "  0   0   0   0   0   0   0   0   0   0   0   0   0   0   0   0   0   0   0   0   0   0   0   0   0   0   0   0 \n",
            "  0   0   0   0   0   0   0   0   0   0   0   0   0   0   0  51 159 253 159  50   0   0   0   0   0   0   0   0 \n",
            "  0   0   0   0   0   0   0   0   0   0   0   0   0   0  48 238 252 252 252 237   0   0   0   0   0   0   0   0 \n",
            "  0   0   0   0   0   0   0   0   0   0   0   0   0  54 227 253 252 239 233 252  57   6   0   0   0   0   0   0 \n",
            "  0   0   0   0   0   0   0   0   0   0   0  10  60 224 252 253 252 202  84 252 253 122   0   0   0   0   0   0 \n",
            "  0   0   0   0   0   0   0   0   0   0   0 163 252 252 252 253 252 252  96 189 253 167   0   0   0   0   0   0 \n",
            "  0   0   0   0   0   0   0   0   0   0  51 238 253 253 190 114 253 228  47  79 255 168   0   0   0   0   0   0 \n",
            "  0   0   0   0   0   0   0   0   0  48 238 252 252 179  12  75 121  21   0   0 253 243  50   0   0   0   0   0 \n",
            "  0   0   0   0   0   0   0   0  38 165 253 233 208  84   0   0   0   0   0   0 253 252 165   0   0   0   0   0 \n",
            "  0   0   0   0   0   0   0   7 178 252 240  71  19  28   0   0   0   0   0   0 253 252 195   0   0   0   0   0 \n",
            "  0   0   0   0   0   0   0  57 252 252  63   0   0   0   0   0   0   0   0   0 253 252 195   0   0   0   0   0 \n",
            "  0   0   0   0   0   0   0 198 253 190   0   0   0   0   0   0   0   0   0   0 255 253 196   0   0   0   0   0 \n",
            "  0   0   0   0   0   0  76 246 252 112   0   0   0   0   0   0   0   0   0   0 253 252 148   0   0   0   0   0 \n",
            "  0   0   0   0   0   0  85 252 230  25   0   0   0   0   0   0   0   0   7 135 253 186  12   0   0   0   0   0 \n",
            "  0   0   0   0   0   0  85 252 223   0   0   0   0   0   0   0   0   7 131 252 225  71   0   0   0   0   0   0 \n",
            "  0   0   0   0   0   0  85 252 145   0   0   0   0   0   0   0  48 165 252 173   0   0   0   0   0   0   0   0 \n",
            "  0   0   0   0   0   0  86 253 225   0   0   0   0   0   0 114 238 253 162   0   0   0   0   0   0   0   0   0 \n",
            "  0   0   0   0   0   0  85 252 249 146  48  29  85 178 225 253 223 167  56   0   0   0   0   0   0   0   0   0 \n",
            "  0   0   0   0   0   0  85 252 252 252 229 215 252 252 252 196 130   0   0   0   0   0   0   0   0   0   0   0 \n",
            "  0   0   0   0   0   0  28 199 252 252 253 252 252 233 145   0   0   0   0   0   0   0   0   0   0   0   0   0 \n",
            "  0   0   0   0   0   0   0  25 128 252 253 252 141  37   0   0   0   0   0   0   0   0   0   0   0   0   0   0 \n",
            "  0   0   0   0   0   0   0   0   0   0   0   0   0   0   0   0   0   0   0   0   0   0   0   0   0   0   0   0 \n",
            "  0   0   0   0   0   0   0   0   0   0   0   0   0   0   0   0   0   0   0   0   0   0   0   0   0   0   0   0 \n",
            "  0   0   0   0   0   0   0   0   0   0   0   0   0   0   0   0   0   0   0   0   0   0   0   0   0   0   0   0 \n",
            "  0   0   0   0   0   0   0   0   0   0   0   0   0   0   0   0   0   0   0   0   0   0   0   0   0   0   0   0 \n"
          ]
        }
      ]
    },
    {
      "cell_type": "code",
      "source": [
        "#Function FC1\n",
        "def FC1(x):\n",
        "  sum = [0 for i in range(32)]\n",
        "  for k in range(32):\n",
        "    for i in range(784):\n",
        "      sum[k] += x[i]*w1[k][i]\n",
        "    \n",
        "    sum[k] = sum[k] + b1[k]\n",
        "\n",
        "  return sum    \n",
        "\n",
        "#RELU Function\n",
        "def RELU(fc1_out):\n",
        "  for k in range(32):\n",
        "    if fc1_out[k]<0 :\n",
        "      fc1_out[k] = 0\n",
        "\n",
        "#Function FC2\n",
        "def FC2(x):\n",
        "  sum = [0 for j in range(10)]\n",
        "  \n",
        "  for k in range(10):\n",
        "    for i in range(32):\n",
        "      sum[k] += x[i]*w2[k][i]\n",
        "    \n",
        "    sum[k] = sum[k] + b2[k]\n",
        "\n",
        "  return sum"
      ],
      "metadata": {
        "id": "dyOidSLIAoQm"
      },
      "execution_count": null,
      "outputs": []
    },
    {
      "cell_type": "code",
      "source": [
        "\n",
        "#test FC1\n",
        "FC1_output = FC1(d_flatten)"
      ],
      "metadata": {
        "id": "hre582L1Wdpx"
      },
      "execution_count": null,
      "outputs": []
    },
    {
      "cell_type": "code",
      "source": [
        "RELU(FC1_output)"
      ],
      "metadata": {
        "id": "Q2kqkpIlRz7F"
      },
      "execution_count": null,
      "outputs": []
    },
    {
      "cell_type": "code",
      "source": [
        "FC2_output = FC2(FC1_output)\n",
        "FC2_output"
      ],
      "metadata": {
        "colab": {
          "base_uri": "https://localhost:8080/"
        },
        "id": "dL7KuTMuZTKg",
        "outputId": "2fbd5c78-3eb1-46c0-a15a-24e5c29edff4"
      },
      "execution_count": null,
      "outputs": [
        {
          "output_type": "execute_result",
          "data": {
            "text/plain": [
              "[408.01022160954466,\n",
              " -2881.1622131022145,\n",
              " -459.87114460462044,\n",
              " -805.9846144106874,\n",
              " -2202.5064838162857,\n",
              " -560.3629856452632,\n",
              " -1136.551053829702,\n",
              " -1697.7894476289957,\n",
              " -1024.4101038761607,\n",
              " -1066.8907916270775]"
            ]
          },
          "metadata": {},
          "execution_count": 46
        }
      ]
    },
    {
      "cell_type": "code",
      "source": [
        "solution = np.argmax(FC2_output)\n",
        "solution"
      ],
      "metadata": {
        "colab": {
          "base_uri": "https://localhost:8080/"
        },
        "id": "JOZJOO9QR157",
        "outputId": "c5158d92-0aba-4b27-faec-e5d670ea6efe"
      },
      "execution_count": null,
      "outputs": [
        {
          "output_type": "execute_result",
          "data": {
            "text/plain": [
              "0"
            ]
          },
          "metadata": {},
          "execution_count": 47
        }
      ]
    },
    {
      "cell_type": "code",
      "source": [],
      "metadata": {
        "id": "aB8xemp0R3_7"
      },
      "execution_count": null,
      "outputs": []
    },
    {
      "cell_type": "code",
      "source": [],
      "metadata": {
        "id": "Y_OXGIHSbUFn"
      },
      "execution_count": null,
      "outputs": []
    },
    {
      "cell_type": "code",
      "source": [],
      "metadata": {
        "id": "Xq3BJhwmhEA7"
      },
      "execution_count": null,
      "outputs": []
    },
    {
      "cell_type": "code",
      "source": [],
      "metadata": {
        "id": "CHMNtFZHmefj"
      },
      "execution_count": null,
      "outputs": []
    },
    {
      "cell_type": "code",
      "source": [],
      "metadata": {
        "id": "EreyRbjEnTO4"
      },
      "execution_count": null,
      "outputs": []
    },
    {
      "cell_type": "code",
      "source": [],
      "metadata": {
        "id": "_iRySpqWqpub"
      },
      "execution_count": null,
      "outputs": []
    },
    {
      "cell_type": "code",
      "source": [],
      "metadata": {
        "id": "DTVAVwq2-e-p"
      },
      "execution_count": null,
      "outputs": []
    },
    {
      "cell_type": "code",
      "source": [],
      "metadata": {
        "id": "FQORtDlS-gDp"
      },
      "execution_count": null,
      "outputs": []
    },
    {
      "cell_type": "code",
      "source": [],
      "metadata": {
        "id": "rGvscg2zN2Lp"
      },
      "execution_count": null,
      "outputs": []
    },
    {
      "cell_type": "code",
      "source": [],
      "metadata": {
        "id": "wls2GMYhOBj2"
      },
      "execution_count": null,
      "outputs": []
    },
    {
      "cell_type": "code",
      "source": [],
      "metadata": {
        "colab": {
          "base_uri": "https://localhost:8080/"
        },
        "id": "wFRrawwNPkXI",
        "outputId": "f70feba4-1dff-4c6c-dc87-28a7d6f3865e"
      },
      "execution_count": null,
      "outputs": [
        {
          "output_type": "execute_result",
          "data": {
            "text/plain": [
              "Net(\n",
              "  (fc1): Linear(in_features=784, out_features=32, bias=True)\n",
              "  (dropout): Dropout(p=0.5, inplace=False)\n",
              "  (fc2): Linear(in_features=32, out_features=10, bias=True)\n",
              ")"
            ]
          },
          "metadata": {},
          "execution_count": 38
        }
      ]
    },
    {
      "cell_type": "code",
      "source": [
        "test(model, torch.device(\"cpu\"), test_loader)"
      ],
      "metadata": {
        "colab": {
          "base_uri": "https://localhost:8080/"
        },
        "id": "kf8J1AKKI1NA",
        "outputId": "67a51826-5094-4219-997f-a48855e95828"
      },
      "execution_count": null,
      "outputs": [
        {
          "output_type": "stream",
          "name": "stdout",
          "text": [
            "\n",
            "Test set: Average loss: 0.4822, Accuracy: 8639/10000 (86%)\n",
            "\n"
          ]
        }
      ]
    },
    {
      "cell_type": "code",
      "source": [],
      "metadata": {
        "id": "vqO7QyAnJGIt"
      },
      "execution_count": null,
      "outputs": []
    }
  ]
}