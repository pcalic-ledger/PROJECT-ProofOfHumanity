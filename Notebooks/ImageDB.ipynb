{
  "nbformat": 4,
  "nbformat_minor": 0,
  "metadata": {
    "colab": {
      "name": "ImageDB.ipynb",
      "provenance": []
    },
    "kernelspec": {
      "name": "python3",
      "display_name": "Python 3"
    },
    "language_info": {
      "name": "python"
    }
  },
  "cells": [
    {
      "cell_type": "code",
      "execution_count": null,
      "metadata": {
        "id": "5TtnzjLvLCyx"
      },
      "outputs": [],
      "source": [
        "import numpy as np\n",
        "import matplotlib.pyplot as plt\n",
        "import torch\n",
        "import torchvision\n",
        "import torchvision.transforms as transforms\n",
        "from torchvision.transforms import ToTensor"
      ]
    },
    {
      "cell_type": "code",
      "source": [
        "transform = transforms.Compose([transforms.ToTensor(),transforms.Normalize((0.5, 0.5, 0.5), (0.5, 0.5, 0.5))])\n",
        "batch_size = 1     #How many images in one batch\n",
        "DB_SIZE = 15    #Number of images in the DB to download"
      ],
      "metadata": {
        "id": "mNoUxnGdLT8_"
      },
      "execution_count": null,
      "outputs": []
    },
    {
      "cell_type": "code",
      "source": [
        "#Donwload MNIST\n",
        "trainSetMnist = torchvision.datasets.MNIST(root='./data', train=True, download=True, transform=ToTensor())"
      ],
      "metadata": {
        "id": "wwdGGZ-ILUXy"
      },
      "execution_count": null,
      "outputs": []
    },
    {
      "cell_type": "code",
      "source": [
        "trainloaderMnist = torch.utils.data.DataLoader(trainSetMnist, batch_size=batch_size, shuffle=False, num_workers=2)\n",
        "classes = ('0', '1', '2', '3', '4', '5', '6', '7', '8', '9')"
      ],
      "metadata": {
        "id": "-D1SGN2BLera"
      },
      "execution_count": null,
      "outputs": []
    },
    {
      "cell_type": "code",
      "source": [
        "# get some random training images\n",
        "dataiterM = iter(trainloaderMnist)\n",
        "a = 0\n",
        "\n",
        "for i in range(DB_SIZE):\n",
        "  imagesM, labelsM = dataiterM.next()\n",
        "\n",
        "  image = imagesM[0][0]\n",
        "\n",
        "  # show images\n",
        "  plt.axis('off')\n",
        "  plt.imshow(image)\n",
        "  plt.savefig('save1/000' + str(a) + '.png', bbox_inches='tight')\n",
        "  plt.close()\n",
        "  a = a+1\n",
        "  # print labels\n",
        "  print(' '.join(f'{classes[labelsM[j]]:8s}' for j in range(batch_size)))"
      ],
      "metadata": {
        "colab": {
          "base_uri": "https://localhost:8080/"
        },
        "id": "7_B7psGCLzXn",
        "outputId": "58175274-ea08-4b02-8e50-5d77f4781868"
      },
      "execution_count": null,
      "outputs": [
        {
          "output_type": "stream",
          "name": "stdout",
          "text": [
            "5       \n",
            "0       \n",
            "4       \n",
            "1       \n",
            "9       \n",
            "2       \n",
            "1       \n",
            "3       \n",
            "1       \n",
            "4       \n",
            "3       \n",
            "5       \n",
            "3       \n",
            "6       \n",
            "1       \n"
          ]
        }
      ]
    },
    {
      "cell_type": "code",
      "source": [
        ""
      ],
      "metadata": {
        "id": "NGafYU9iL4dU"
      },
      "execution_count": null,
      "outputs": []
    }
  ]
}